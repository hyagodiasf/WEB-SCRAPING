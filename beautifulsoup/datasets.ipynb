{
 "cells": [
  {
   "cell_type": "markdown",
   "id": "50a18bac",
   "metadata": {},
   "source": [
    "### DATASET DA LIGA NACIONAL DE FUTBALL AMERICANO (NACIONAL FOTEBALL LEAGUE)\n",
    "#### url(https://www.nfl.com/standings/league/2021/PRE)"
   ]
  },
  {
   "cell_type": "code",
   "execution_count": 1,
   "id": "dc6b787c",
   "metadata": {},
   "outputs": [],
   "source": [
    "import requests\n",
    "from bs4 import BeautifulSoup\n",
    "import pandas as pd"
   ]
  },
  {
   "cell_type": "code",
   "execution_count": null,
   "id": "eeea942b",
   "metadata": {},
   "outputs": [],
   "source": [
    "url = 'https://www.nfl.com/standings/league/2021/PRE'\n",
    "pagina = requests.get(url)"
   ]
  },
  {
   "cell_type": "code",
   "execution_count": null,
   "id": "9e61679f",
   "metadata": {},
   "outputs": [],
   "source": [
    "sopa = BeautifulSoup(pagina.text, 'html')"
   ]
  },
  {
   "cell_type": "code",
   "execution_count": null,
   "id": "445f0a16",
   "metadata": {},
   "outputs": [],
   "source": [
    "tabela = sopa.find('table', {'summary':'Standings - Detailed View'})\n",
    "cabecalhos = []"
   ]
  },
  {
   "cell_type": "code",
   "execution_count": null,
   "id": "012c50fd",
   "metadata": {},
   "outputs": [],
   "source": [
    "for i in tabela.find_all('th'):\n",
    "    cab = i.text.strip()\n",
    "    cabecalhos.append(cab)"
   ]
  },
  {
   "cell_type": "code",
   "execution_count": null,
   "id": "8186a63d",
   "metadata": {},
   "outputs": [],
   "source": [
    "data_cab = pd.DataFrame(columns = cabecalhos)\n",
    "for linhas in tabela.find_all('tr')[1:]:\n",
    "    dados = linhas.find_all('td')\n",
    "    linhas_tab = [dado.text.strip() for dado in dados]\n",
    "    tam = len(data_cab)\n",
    "    data_cab.loc[tam] = linhas_tab\n",
    "data_cab.head(10)  "
   ]
  },
  {
   "cell_type": "code",
   "execution_count": null,
   "id": "97cfa03a",
   "metadata": {},
   "outputs": [],
   "source": [
    "data_cab.to_csv('nfl.csv')"
   ]
  },
  {
   "cell_type": "markdown",
   "id": "a7ade2db",
   "metadata": {},
   "source": [
    "### DATASET DA POPULAÇÃO MUNDIAL DE 2022 POR CONTINENTES\n",
    "#### SITE: url(https://www.worldometers.info/world-population/population-by-region/)"
   ]
  },
  {
   "cell_type": "code",
   "execution_count": null,
   "id": "2308a03a",
   "metadata": {},
   "outputs": [],
   "source": [
    "url = 'https://www.worldometers.info/world-population/population-by-region/'\n",
    "pop = requests.get(url)"
   ]
  },
  {
   "cell_type": "code",
   "execution_count": null,
   "id": "706ea0a6",
   "metadata": {},
   "outputs": [],
   "source": [
    "sopa = BeautifulSoup(pop.text, 'html.parser')"
   ]
  },
  {
   "cell_type": "code",
   "execution_count": null,
   "id": "065daa6c",
   "metadata": {},
   "outputs": [],
   "source": [
    "pop_continente = sopa.find('table', {'class':'table table-hover table-condensed'})"
   ]
  },
  {
   "cell_type": "code",
   "execution_count": null,
   "id": "4d5b95aa",
   "metadata": {},
   "outputs": [],
   "source": [
    "head = []\n",
    "for i in pop_continente.find_all('th'):\n",
    "    pop_dados = i.text.strip()\n",
    "    head.append(pop_dados)"
   ]
  },
  {
   "cell_type": "code",
   "execution_count": null,
   "id": "2167e801",
   "metadata": {},
   "outputs": [],
   "source": [
    "pop_cab = pd.DataFrame(columns = head)\n",
    "for linhas in pop_continente.find_all('tr')[1:]:\n",
    "    dados = linhas.find_all('td')\n",
    "    linhas_tab = [dado.text.strip() for dado in dados]\n",
    "    tam = len(pop_cab)\n",
    "    pop_cab.loc[tam] = linhas_tab\n",
    "pop_cab"
   ]
  },
  {
   "cell_type": "code",
   "execution_count": null,
   "id": "5075cff2",
   "metadata": {},
   "outputs": [],
   "source": [
    "pop_cab.to_csv('continentes_pop.csv')"
   ]
  },
  {
   "cell_type": "markdown",
   "id": "b9ec5607",
   "metadata": {},
   "source": [
    "### DATASET DA POPULAÇÃO MUNDIAL DE 2022 POR PAÍS \n",
    "#### SITE: url(https://www.worldometers.info/world-population/population-by-country/)"
   ]
  },
  {
   "cell_type": "code",
   "execution_count": null,
   "id": "a48f30ec",
   "metadata": {},
   "outputs": [],
   "source": [
    "url = 'https://www.worldometers.info/world-population/population-by-country/'\n",
    "pagina = requests.get(url)"
   ]
  },
  {
   "cell_type": "code",
   "execution_count": null,
   "id": "88f6e42e",
   "metadata": {},
   "outputs": [],
   "source": [
    "sopa = BeautifulSoup(pagina.text, 'lxml')"
   ]
  },
  {
   "cell_type": "code",
   "execution_count": null,
   "id": "dc54db56",
   "metadata": {},
   "outputs": [],
   "source": [
    "tabela = sopa.find('table', {'id':'example2'})\n",
    "cabecalhos = []"
   ]
  },
  {
   "cell_type": "code",
   "execution_count": null,
   "id": "b2f6d1b1",
   "metadata": {},
   "outputs": [],
   "source": [
    "for i in tabela.find_all('th'):\n",
    "    cab = i.text\n",
    "    cabecalhos.append(cab)"
   ]
  },
  {
   "cell_type": "code",
   "execution_count": null,
   "id": "613898bf",
   "metadata": {},
   "outputs": [],
   "source": [
    "data_cab = pd.DataFrame(columns = cabecalhos)\n",
    "for linhas in tabela.find_all('tr')[1:]:\n",
    "    dados = linhas.find_all('td')\n",
    "    linhas_tab = [dado.text.strip() for dado in dados]\n",
    "    tam = len(data_cab)\n",
    "    data_cab.loc[tam] = linhas_tab\n",
    "data_cab.head(10)"
   ]
  },
  {
   "cell_type": "code",
   "execution_count": null,
   "id": "88c93357",
   "metadata": {},
   "outputs": [],
   "source": [
    "data_cab.to_csv('populacao_paises.csv')"
   ]
  },
  {
   "cell_type": "code",
   "execution_count": null,
   "id": "cc9eed98",
   "metadata": {},
   "outputs": [],
   "source": []
  },
  {
   "cell_type": "markdown",
   "id": "2d0229c8",
   "metadata": {},
   "source": [
    "### DATASET DA POPULAÇÃO MUNDIAL POR ANO \n",
    "##### SITE: url(https://www.worldometers.info/world-population/world-population-by-year/)"
   ]
  },
  {
   "cell_type": "code",
   "execution_count": 2,
   "id": "51172401",
   "metadata": {},
   "outputs": [],
   "source": [
    "url = 'https://www.worldometers.info/world-population/world-population-by-year/'\n",
    "pop_years = requests.get(url)"
   ]
  },
  {
   "cell_type": "code",
   "execution_count": 3,
   "id": "1c7aef6d",
   "metadata": {},
   "outputs": [],
   "source": [
    "sopa = BeautifulSoup(pop_years.text, 'html')"
   ]
  },
  {
   "cell_type": "code",
   "execution_count": 4,
   "id": "4ec1ef7b",
   "metadata": {},
   "outputs": [],
   "source": [
    "tabela_pop_years = sopa.find('table', {'class':'table table-hover table-condensed'})\n",
    "cap_pop_years = []"
   ]
  },
  {
   "cell_type": "code",
   "execution_count": 5,
   "id": "3c385576",
   "metadata": {},
   "outputs": [],
   "source": [
    "for i in tabela_pop_years.find_all('th'):\n",
    "    cab = i.text\n",
    "    cap_pop_years.append(cab)"
   ]
  },
  {
   "cell_type": "code",
   "execution_count": 6,
   "id": "58b9f227",
   "metadata": {},
   "outputs": [
    {
     "data": {
      "text/html": [
       "<div>\n",
       "<style scoped>\n",
       "    .dataframe tbody tr th:only-of-type {\n",
       "        vertical-align: middle;\n",
       "    }\n",
       "\n",
       "    .dataframe tbody tr th {\n",
       "        vertical-align: top;\n",
       "    }\n",
       "\n",
       "    .dataframe thead th {\n",
       "        text-align: right;\n",
       "    }\n",
       "</style>\n",
       "<table border=\"1\" class=\"dataframe\">\n",
       "  <thead>\n",
       "    <tr style=\"text-align: right;\">\n",
       "      <th></th>\n",
       "      <th>Year</th>\n",
       "      <th>World Population</th>\n",
       "      <th>YearlyChange</th>\n",
       "      <th>NetChange</th>\n",
       "      <th>Density(P/Km²)</th>\n",
       "      <th>UrbanPop</th>\n",
       "      <th>UrbanPop %</th>\n",
       "    </tr>\n",
       "  </thead>\n",
       "  <tbody>\n",
       "    <tr>\n",
       "      <th>0</th>\n",
       "      <td>2020</td>\n",
       "      <td>7,794,798,739</td>\n",
       "      <td>1.05 %</td>\n",
       "      <td>81,330,639</td>\n",
       "      <td>52</td>\n",
       "      <td>4,378,993,944</td>\n",
       "      <td>56 %</td>\n",
       "    </tr>\n",
       "    <tr>\n",
       "      <th>1</th>\n",
       "      <td>2019</td>\n",
       "      <td>7,713,468,100</td>\n",
       "      <td>1.08 %</td>\n",
       "      <td>82,377,060</td>\n",
       "      <td>52</td>\n",
       "      <td>4,299,438,618</td>\n",
       "      <td>56 %</td>\n",
       "    </tr>\n",
       "    <tr>\n",
       "      <th>2</th>\n",
       "      <td>2018</td>\n",
       "      <td>7,631,091,040</td>\n",
       "      <td>1.10 %</td>\n",
       "      <td>83,232,115</td>\n",
       "      <td>51</td>\n",
       "      <td>4,219,817,318</td>\n",
       "      <td>55 %</td>\n",
       "    </tr>\n",
       "    <tr>\n",
       "      <th>3</th>\n",
       "      <td>2017</td>\n",
       "      <td>7,547,858,925</td>\n",
       "      <td>1.12 %</td>\n",
       "      <td>83,836,876</td>\n",
       "      <td>51</td>\n",
       "      <td>4,140,188,594</td>\n",
       "      <td>55 %</td>\n",
       "    </tr>\n",
       "    <tr>\n",
       "      <th>4</th>\n",
       "      <td>2016</td>\n",
       "      <td>7,464,022,049</td>\n",
       "      <td>1.14 %</td>\n",
       "      <td>84,224,910</td>\n",
       "      <td>50</td>\n",
       "      <td>4,060,652,683</td>\n",
       "      <td>54 %</td>\n",
       "    </tr>\n",
       "    <tr>\n",
       "      <th>5</th>\n",
       "      <td>2015</td>\n",
       "      <td>7,379,797,139</td>\n",
       "      <td>1.16 %</td>\n",
       "      <td>84,506,374</td>\n",
       "      <td>50</td>\n",
       "      <td>3,981,497,663</td>\n",
       "      <td>54 %</td>\n",
       "    </tr>\n",
       "    <tr>\n",
       "      <th>6</th>\n",
       "      <td>2014</td>\n",
       "      <td>7,295,290,765</td>\n",
       "      <td>1.17 %</td>\n",
       "      <td>84,708,789</td>\n",
       "      <td>49</td>\n",
       "      <td>3,902,831,934</td>\n",
       "      <td>53 %</td>\n",
       "    </tr>\n",
       "    <tr>\n",
       "      <th>7</th>\n",
       "      <td>2013</td>\n",
       "      <td>7,210,581,976</td>\n",
       "      <td>1.19 %</td>\n",
       "      <td>84,753,917</td>\n",
       "      <td>48</td>\n",
       "      <td>3,824,990,329</td>\n",
       "      <td>53 %</td>\n",
       "    </tr>\n",
       "    <tr>\n",
       "      <th>8</th>\n",
       "      <td>2012</td>\n",
       "      <td>7,125,828,059</td>\n",
       "      <td>1.20 %</td>\n",
       "      <td>84,633,758</td>\n",
       "      <td>48</td>\n",
       "      <td>3,747,842,586</td>\n",
       "      <td>53 %</td>\n",
       "    </tr>\n",
       "    <tr>\n",
       "      <th>9</th>\n",
       "      <td>2011</td>\n",
       "      <td>7,041,194,301</td>\n",
       "      <td>1.21 %</td>\n",
       "      <td>84,370,698</td>\n",
       "      <td>47</td>\n",
       "      <td>3,671,423,872</td>\n",
       "      <td>52 %</td>\n",
       "    </tr>\n",
       "  </tbody>\n",
       "</table>\n",
       "</div>"
      ],
      "text/plain": [
       "   Year World Population YearlyChange   NetChange Density(P/Km²)  \\\n",
       "0  2020    7,794,798,739       1.05 %  81,330,639             52   \n",
       "1  2019    7,713,468,100       1.08 %  82,377,060             52   \n",
       "2  2018    7,631,091,040       1.10 %  83,232,115             51   \n",
       "3  2017    7,547,858,925       1.12 %  83,836,876             51   \n",
       "4  2016    7,464,022,049       1.14 %  84,224,910             50   \n",
       "5  2015    7,379,797,139       1.16 %  84,506,374             50   \n",
       "6  2014    7,295,290,765       1.17 %  84,708,789             49   \n",
       "7  2013    7,210,581,976       1.19 %  84,753,917             48   \n",
       "8  2012    7,125,828,059       1.20 %  84,633,758             48   \n",
       "9  2011    7,041,194,301       1.21 %  84,370,698             47   \n",
       "\n",
       "        UrbanPop UrbanPop %  \n",
       "0  4,378,993,944       56 %  \n",
       "1  4,299,438,618       56 %  \n",
       "2  4,219,817,318       55 %  \n",
       "3  4,140,188,594       55 %  \n",
       "4  4,060,652,683       54 %  \n",
       "5  3,981,497,663       54 %  \n",
       "6  3,902,831,934       53 %  \n",
       "7  3,824,990,329       53 %  \n",
       "8  3,747,842,586       53 %  \n",
       "9  3,671,423,872       52 %  "
      ]
     },
     "execution_count": 6,
     "metadata": {},
     "output_type": "execute_result"
    }
   ],
   "source": [
    "data_cab = pd.DataFrame(columns = cap_pop_years)\n",
    "for linhas in tabela_pop_years.find_all('tr')[1:]:\n",
    "    dados = linhas.find_all('td')\n",
    "    linhas_tab = [dado.text.strip() for dado in dados]\n",
    "    tam = len(data_cab)\n",
    "    data_cab.loc[tam] = linhas_tab\n",
    "    \n",
    "data_cab.head(10)"
   ]
  },
  {
   "cell_type": "code",
   "execution_count": 7,
   "id": "d82f9f53",
   "metadata": {},
   "outputs": [],
   "source": [
    "data_cab.to_csv('populacao_por_anos.csv')"
   ]
  },
  {
   "cell_type": "code",
   "execution_count": null,
   "id": "f5ffc19e",
   "metadata": {},
   "outputs": [],
   "source": []
  }
 ],
 "metadata": {
  "kernelspec": {
   "display_name": "Python 3 (ipykernel)",
   "language": "python",
   "name": "python3"
  },
  "language_info": {
   "codemirror_mode": {
    "name": "ipython",
    "version": 3
   },
   "file_extension": ".py",
   "mimetype": "text/x-python",
   "name": "python",
   "nbconvert_exporter": "python",
   "pygments_lexer": "ipython3",
   "version": "3.10.4"
  }
 },
 "nbformat": 4,
 "nbformat_minor": 5
}
