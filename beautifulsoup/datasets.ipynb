{
 "cells": [
  {
   "cell_type": "markdown",
   "id": "98fb58f8",
   "metadata": {},
   "source": [
    "# TRABALHO DE MINERAÇÃO E CIÊNCIA DE DADOS\n",
    "### Professor: José Maria da Silva Monteiro Filho\n",
    "### Aluno: Hyago Sayomar Dias Ferreira\n",
    "##### Link do youtube: https://www.youtube.com/watch?v=AegN1T7ZPnc&ab_channel=HyagoDiaz\n",
    "##### 2022.1"
   ]
  },
  {
   "cell_type": "markdown",
   "id": "50a18bac",
   "metadata": {},
   "source": [
    "## DATASET DO CAMPEONATO BRASILEIRO SÉRIE A\n",
    "#### url(https://www.terra.com.br/esportes/futebol/brasileiro-serie-a/tabela/)"
   ]
  },
  {
   "cell_type": "code",
   "execution_count": 1,
   "id": "dc6b787c",
   "metadata": {},
   "outputs": [],
   "source": [
    "import requests\n",
    "from bs4 import BeautifulSoup\n",
    "import pandas as pd\n",
    "import numpy as np\n",
    "import scipy\n",
    "import math\n",
    "import matplotlib.pyplot as plt\n",
    "from plotnine import *\n",
    "import scipy.stats as stats\n",
    "import statsmodels.api as sm\n",
    "import pylab as py\n",
    "import seaborn as sns\n",
    "import random\n",
    "from fitter import Fitter, get_common_distributions, get_distributions\n",
    "from sklearn.model_selection import train_test_split\n",
    "from sklearn.neighbors import KNeighborsClassifier"
   ]
  },
  {
   "cell_type": "code",
   "execution_count": 2,
   "id": "f1ece2e4",
   "metadata": {},
   "outputs": [],
   "source": [
    "url = 'https://www.terra.com.br/esportes/futebol/brasileiro-serie-a/tabela/'\n",
    "diab = requests.get(url)\n",
    "sopa = BeautifulSoup(diab.text, 'html')"
   ]
  },
  {
   "cell_type": "code",
   "execution_count": 3,
   "id": "5f45116f",
   "metadata": {},
   "outputs": [],
   "source": [
    "table = sopa.find_all(name=\"table\")"
   ]
  },
  {
   "cell_type": "code",
   "execution_count": 4,
   "id": "8b39533c",
   "metadata": {},
   "outputs": [],
   "source": [
    "str1 = str(table)"
   ]
  },
  {
   "cell_type": "code",
   "execution_count": 5,
   "id": "5d064933",
   "metadata": {},
   "outputs": [],
   "source": [
    "pf = pd.read_html(str1)[0]"
   ]
  },
  {
   "cell_type": "code",
   "execution_count": 6,
   "id": "f0357f3d",
   "metadata": {},
   "outputs": [],
   "source": [
    "colDrop = ['Times.1', 'Times.3']"
   ]
  },
  {
   "cell_type": "code",
   "execution_count": 7,
   "id": "54736722",
   "metadata": {},
   "outputs": [],
   "source": [
    "tabela = pf.drop(colDrop, axis=1)"
   ]
  },
  {
   "cell_type": "code",
   "execution_count": 8,
   "id": "c3112841",
   "metadata": {},
   "outputs": [],
   "source": [
    "tabela.to_csv('brasileirao.csv')"
   ]
  },
  {
   "cell_type": "code",
   "execution_count": 9,
   "id": "7a5e0678",
   "metadata": {},
   "outputs": [],
   "source": [
    "dataset = pd.read_csv('brasileirao.csv')"
   ]
  },
  {
   "cell_type": "code",
   "execution_count": 10,
   "id": "f7daa0b9",
   "metadata": {},
   "outputs": [],
   "source": [
    "dataset = dataset.rename(columns={'Times': 'Classificação'})\n",
    "dataset = dataset.rename(columns={'Times.2': 'Times'})\n",
    "dataset = dataset.drop(columns=['Unnamed: 0'])"
   ]
  },
  {
   "cell_type": "code",
   "execution_count": 11,
   "id": "b2f265f4",
   "metadata": {},
   "outputs": [
    {
     "data": {
      "text/html": [
       "<div>\n",
       "<style scoped>\n",
       "    .dataframe tbody tr th:only-of-type {\n",
       "        vertical-align: middle;\n",
       "    }\n",
       "\n",
       "    .dataframe tbody tr th {\n",
       "        vertical-align: top;\n",
       "    }\n",
       "\n",
       "    .dataframe thead th {\n",
       "        text-align: right;\n",
       "    }\n",
       "</style>\n",
       "<table border=\"1\" class=\"dataframe\">\n",
       "  <thead>\n",
       "    <tr style=\"text-align: right;\">\n",
       "      <th></th>\n",
       "      <th>Classificação</th>\n",
       "      <th>Times</th>\n",
       "      <th>P</th>\n",
       "      <th>J</th>\n",
       "      <th>V</th>\n",
       "      <th>E</th>\n",
       "      <th>D</th>\n",
       "      <th>GP</th>\n",
       "      <th>GC</th>\n",
       "      <th>SG</th>\n",
       "      <th>%</th>\n",
       "    </tr>\n",
       "  </thead>\n",
       "  <tbody>\n",
       "    <tr>\n",
       "      <th>0</th>\n",
       "      <td>1</td>\n",
       "      <td>Palmeiras &gt;&gt;</td>\n",
       "      <td>33</td>\n",
       "      <td>17</td>\n",
       "      <td>9</td>\n",
       "      <td>6</td>\n",
       "      <td>2</td>\n",
       "      <td>28</td>\n",
       "      <td>12</td>\n",
       "      <td>16</td>\n",
       "      <td>64</td>\n",
       "    </tr>\n",
       "    <tr>\n",
       "      <th>1</th>\n",
       "      <td>2</td>\n",
       "      <td>Atlético-MG &gt;&gt;</td>\n",
       "      <td>31</td>\n",
       "      <td>17</td>\n",
       "      <td>8</td>\n",
       "      <td>7</td>\n",
       "      <td>2</td>\n",
       "      <td>25</td>\n",
       "      <td>17</td>\n",
       "      <td>8</td>\n",
       "      <td>60</td>\n",
       "    </tr>\n",
       "    <tr>\n",
       "      <th>2</th>\n",
       "      <td>3</td>\n",
       "      <td>Corinthians &gt;&gt;</td>\n",
       "      <td>29</td>\n",
       "      <td>17</td>\n",
       "      <td>8</td>\n",
       "      <td>5</td>\n",
       "      <td>4</td>\n",
       "      <td>19</td>\n",
       "      <td>17</td>\n",
       "      <td>2</td>\n",
       "      <td>56</td>\n",
       "    </tr>\n",
       "    <tr>\n",
       "      <th>3</th>\n",
       "      <td>4</td>\n",
       "      <td>Internacional &gt;&gt;</td>\n",
       "      <td>29</td>\n",
       "      <td>17</td>\n",
       "      <td>7</td>\n",
       "      <td>8</td>\n",
       "      <td>2</td>\n",
       "      <td>23</td>\n",
       "      <td>15</td>\n",
       "      <td>8</td>\n",
       "      <td>56</td>\n",
       "    </tr>\n",
       "    <tr>\n",
       "      <th>4</th>\n",
       "      <td>5</td>\n",
       "      <td>Fluminense &gt;&gt;</td>\n",
       "      <td>28</td>\n",
       "      <td>17</td>\n",
       "      <td>8</td>\n",
       "      <td>4</td>\n",
       "      <td>5</td>\n",
       "      <td>24</td>\n",
       "      <td>17</td>\n",
       "      <td>7</td>\n",
       "      <td>54</td>\n",
       "    </tr>\n",
       "    <tr>\n",
       "      <th>5</th>\n",
       "      <td>6</td>\n",
       "      <td>Athletico-PR &gt;&gt;</td>\n",
       "      <td>28</td>\n",
       "      <td>17</td>\n",
       "      <td>8</td>\n",
       "      <td>4</td>\n",
       "      <td>5</td>\n",
       "      <td>20</td>\n",
       "      <td>17</td>\n",
       "      <td>3</td>\n",
       "      <td>54</td>\n",
       "    </tr>\n",
       "    <tr>\n",
       "      <th>6</th>\n",
       "      <td>7</td>\n",
       "      <td>Flamengo &gt;&gt;</td>\n",
       "      <td>24</td>\n",
       "      <td>17</td>\n",
       "      <td>7</td>\n",
       "      <td>3</td>\n",
       "      <td>7</td>\n",
       "      <td>20</td>\n",
       "      <td>17</td>\n",
       "      <td>3</td>\n",
       "      <td>47</td>\n",
       "    </tr>\n",
       "    <tr>\n",
       "      <th>7</th>\n",
       "      <td>8</td>\n",
       "      <td>Bragantino &gt;&gt;</td>\n",
       "      <td>24</td>\n",
       "      <td>17</td>\n",
       "      <td>6</td>\n",
       "      <td>6</td>\n",
       "      <td>5</td>\n",
       "      <td>27</td>\n",
       "      <td>20</td>\n",
       "      <td>7</td>\n",
       "      <td>47</td>\n",
       "    </tr>\n",
       "    <tr>\n",
       "      <th>8</th>\n",
       "      <td>9</td>\n",
       "      <td>São Paulo &gt;&gt;</td>\n",
       "      <td>24</td>\n",
       "      <td>17</td>\n",
       "      <td>5</td>\n",
       "      <td>9</td>\n",
       "      <td>3</td>\n",
       "      <td>22</td>\n",
       "      <td>18</td>\n",
       "      <td>4</td>\n",
       "      <td>47</td>\n",
       "    </tr>\n",
       "    <tr>\n",
       "      <th>9</th>\n",
       "      <td>10</td>\n",
       "      <td>Ceará &gt;&gt;</td>\n",
       "      <td>24</td>\n",
       "      <td>18</td>\n",
       "      <td>5</td>\n",
       "      <td>9</td>\n",
       "      <td>4</td>\n",
       "      <td>20</td>\n",
       "      <td>18</td>\n",
       "      <td>2</td>\n",
       "      <td>44</td>\n",
       "    </tr>\n",
       "    <tr>\n",
       "      <th>10</th>\n",
       "      <td>11</td>\n",
       "      <td>Santos &gt;&gt;</td>\n",
       "      <td>22</td>\n",
       "      <td>17</td>\n",
       "      <td>5</td>\n",
       "      <td>7</td>\n",
       "      <td>5</td>\n",
       "      <td>20</td>\n",
       "      <td>16</td>\n",
       "      <td>4</td>\n",
       "      <td>43</td>\n",
       "    </tr>\n",
       "    <tr>\n",
       "      <th>11</th>\n",
       "      <td>12</td>\n",
       "      <td>Botafogo &gt;&gt;</td>\n",
       "      <td>21</td>\n",
       "      <td>17</td>\n",
       "      <td>6</td>\n",
       "      <td>3</td>\n",
       "      <td>8</td>\n",
       "      <td>17</td>\n",
       "      <td>22</td>\n",
       "      <td>-5</td>\n",
       "      <td>41</td>\n",
       "    </tr>\n",
       "    <tr>\n",
       "      <th>12</th>\n",
       "      <td>13</td>\n",
       "      <td>Avaí &gt;&gt;</td>\n",
       "      <td>21</td>\n",
       "      <td>18</td>\n",
       "      <td>6</td>\n",
       "      <td>3</td>\n",
       "      <td>9</td>\n",
       "      <td>19</td>\n",
       "      <td>28</td>\n",
       "      <td>-9</td>\n",
       "      <td>38</td>\n",
       "    </tr>\n",
       "    <tr>\n",
       "      <th>13</th>\n",
       "      <td>14</td>\n",
       "      <td>Goiás &gt;&gt;</td>\n",
       "      <td>21</td>\n",
       "      <td>17</td>\n",
       "      <td>5</td>\n",
       "      <td>6</td>\n",
       "      <td>6</td>\n",
       "      <td>16</td>\n",
       "      <td>19</td>\n",
       "      <td>-3</td>\n",
       "      <td>41</td>\n",
       "    </tr>\n",
       "    <tr>\n",
       "      <th>14</th>\n",
       "      <td>15</td>\n",
       "      <td>Cuiabá &gt;&gt;</td>\n",
       "      <td>19</td>\n",
       "      <td>17</td>\n",
       "      <td>5</td>\n",
       "      <td>4</td>\n",
       "      <td>8</td>\n",
       "      <td>13</td>\n",
       "      <td>18</td>\n",
       "      <td>-5</td>\n",
       "      <td>37</td>\n",
       "    </tr>\n",
       "    <tr>\n",
       "      <th>15</th>\n",
       "      <td>16</td>\n",
       "      <td>Coritiba &gt;&gt;</td>\n",
       "      <td>19</td>\n",
       "      <td>17</td>\n",
       "      <td>5</td>\n",
       "      <td>4</td>\n",
       "      <td>8</td>\n",
       "      <td>20</td>\n",
       "      <td>27</td>\n",
       "      <td>-7</td>\n",
       "      <td>37</td>\n",
       "    </tr>\n",
       "    <tr>\n",
       "      <th>16</th>\n",
       "      <td>17</td>\n",
       "      <td>América-MG &gt;&gt;</td>\n",
       "      <td>18</td>\n",
       "      <td>17</td>\n",
       "      <td>5</td>\n",
       "      <td>3</td>\n",
       "      <td>9</td>\n",
       "      <td>12</td>\n",
       "      <td>21</td>\n",
       "      <td>-9</td>\n",
       "      <td>35</td>\n",
       "    </tr>\n",
       "    <tr>\n",
       "      <th>17</th>\n",
       "      <td>18</td>\n",
       "      <td>Atlético Goianiense &gt;&gt;</td>\n",
       "      <td>17</td>\n",
       "      <td>17</td>\n",
       "      <td>4</td>\n",
       "      <td>5</td>\n",
       "      <td>8</td>\n",
       "      <td>17</td>\n",
       "      <td>23</td>\n",
       "      <td>-6</td>\n",
       "      <td>33</td>\n",
       "    </tr>\n",
       "    <tr>\n",
       "      <th>18</th>\n",
       "      <td>19</td>\n",
       "      <td>Fortaleza &gt;&gt;</td>\n",
       "      <td>14</td>\n",
       "      <td>17</td>\n",
       "      <td>3</td>\n",
       "      <td>5</td>\n",
       "      <td>9</td>\n",
       "      <td>14</td>\n",
       "      <td>21</td>\n",
       "      <td>-7</td>\n",
       "      <td>27</td>\n",
       "    </tr>\n",
       "    <tr>\n",
       "      <th>19</th>\n",
       "      <td>20</td>\n",
       "      <td>Juventude &gt;&gt;</td>\n",
       "      <td>13</td>\n",
       "      <td>17</td>\n",
       "      <td>2</td>\n",
       "      <td>7</td>\n",
       "      <td>8</td>\n",
       "      <td>15</td>\n",
       "      <td>28</td>\n",
       "      <td>-13</td>\n",
       "      <td>25</td>\n",
       "    </tr>\n",
       "  </tbody>\n",
       "</table>\n",
       "</div>"
      ],
      "text/plain": [
       "    Classificação                   Times   P   J  V  E  D  GP  GC  SG   %\n",
       "0               1            Palmeiras >>  33  17  9  6  2  28  12  16  64\n",
       "1               2          Atlético-MG >>  31  17  8  7  2  25  17   8  60\n",
       "2               3          Corinthians >>  29  17  8  5  4  19  17   2  56\n",
       "3               4        Internacional >>  29  17  7  8  2  23  15   8  56\n",
       "4               5           Fluminense >>  28  17  8  4  5  24  17   7  54\n",
       "5               6         Athletico-PR >>  28  17  8  4  5  20  17   3  54\n",
       "6               7             Flamengo >>  24  17  7  3  7  20  17   3  47\n",
       "7               8           Bragantino >>  24  17  6  6  5  27  20   7  47\n",
       "8               9            São Paulo >>  24  17  5  9  3  22  18   4  47\n",
       "9              10                Ceará >>  24  18  5  9  4  20  18   2  44\n",
       "10             11               Santos >>  22  17  5  7  5  20  16   4  43\n",
       "11             12             Botafogo >>  21  17  6  3  8  17  22  -5  41\n",
       "12             13                 Avaí >>  21  18  6  3  9  19  28  -9  38\n",
       "13             14                Goiás >>  21  17  5  6  6  16  19  -3  41\n",
       "14             15               Cuiabá >>  19  17  5  4  8  13  18  -5  37\n",
       "15             16             Coritiba >>  19  17  5  4  8  20  27  -7  37\n",
       "16             17           América-MG >>  18  17  5  3  9  12  21  -9  35\n",
       "17             18  Atlético Goianiense >>  17  17  4  5  8  17  23  -6  33\n",
       "18             19            Fortaleza >>  14  17  3  5  9  14  21  -7  27\n",
       "19             20            Juventude >>  13  17  2  7  8  15  28 -13  25"
      ]
     },
     "execution_count": 11,
     "metadata": {},
     "output_type": "execute_result"
    }
   ],
   "source": [
    "dataset"
   ]
  },
  {
   "cell_type": "code",
   "execution_count": 12,
   "id": "99e309d8",
   "metadata": {},
   "outputs": [
    {
     "name": "stdout",
     "output_type": "stream",
     "text": [
      "<class 'pandas.core.frame.DataFrame'>\n",
      "RangeIndex: 20 entries, 0 to 19\n",
      "Data columns (total 11 columns):\n",
      " #   Column         Non-Null Count  Dtype \n",
      "---  ------         --------------  ----- \n",
      " 0   Classificação  20 non-null     int64 \n",
      " 1   Times          20 non-null     object\n",
      " 2   P              20 non-null     int64 \n",
      " 3   J              20 non-null     int64 \n",
      " 4   V              20 non-null     int64 \n",
      " 5   E              20 non-null     int64 \n",
      " 6   D              20 non-null     int64 \n",
      " 7   GP             20 non-null     int64 \n",
      " 8   GC             20 non-null     int64 \n",
      " 9   SG             20 non-null     int64 \n",
      " 10  %              20 non-null     int64 \n",
      "dtypes: int64(10), object(1)\n",
      "memory usage: 1.8+ KB\n"
     ]
    }
   ],
   "source": [
    "dataset.info()"
   ]
  },
  {
   "cell_type": "markdown",
   "id": "9cdafbef",
   "metadata": {},
   "source": [
    "## Medidas de Tendência Central\n",
    "##### Média e Mediana"
   ]
  },
  {
   "cell_type": "code",
   "execution_count": 13,
   "id": "00339f61",
   "metadata": {},
   "outputs": [
    {
     "name": "stdout",
     "output_type": "stream",
     "text": [
      "PONTUAÇÕES:\n",
      "Média: 22.95 | Mediana: 23.0\n",
      "JOGOS:\n",
      "Média: 17.1 | Mediana: 17.0\n",
      "VITÓRAS:\n",
      "Média: 5.85 | Mediana: 5.5\n",
      "EMPATES:\n",
      "Média: 5.4 | Mediana: 5.0\n",
      "DERROTAS:\n",
      "Média: 5.85 | Mediana: 5.5\n",
      "GOLS POR PARTIDA:\n",
      "Média: 19.55 | Mediana: 20.0\n",
      "GOLS CONTRA:\n",
      "Média: 19.55 | Mediana: 18.0\n",
      "SALDO DE GOLS:\n",
      "Média: 0.0 | Mediana: 2.0\n",
      "APROVEITAMENTO:\n",
      "Média: 44.3 | Mediana: 43.5\n"
     ]
    }
   ],
   "source": [
    "print(f\"PONTUAÇÕES:\\nMédia: {dataset['P'].mean()} | Mediana: {dataset['P'].median()}\")\n",
    "print(f\"JOGOS:\\nMédia: {dataset['J'].mean()} | Mediana: {dataset['J'].median()}\")\n",
    "print(f\"VITÓRAS:\\nMédia: {dataset['V'].mean()} | Mediana: {dataset['V'].median()}\")\n",
    "print(f\"EMPATES:\\nMédia: {dataset['E'].mean()} | Mediana: {dataset['E'].median()}\")\n",
    "print(f\"DERROTAS:\\nMédia: {dataset['D'].mean()} | Mediana: {dataset['D'].median()}\")\n",
    "print(f\"GOLS POR PARTIDA:\\nMédia: {dataset['GP'].mean()} | Mediana: {dataset['GP'].median()}\")\n",
    "print(f\"GOLS CONTRA:\\nMédia: {dataset['GC'].mean()} | Mediana: {dataset['GC'].median()}\")\n",
    "print(f\"SALDO DE GOLS:\\nMédia: {dataset['SG'].mean()} | Mediana: {dataset['SG'].median()}\")\n",
    "print(f\"APROVEITAMENTO:\\nMédia: {dataset['%'].mean()} | Mediana: {dataset['%'].median()}\")"
   ]
  },
  {
   "cell_type": "code",
   "execution_count": 14,
   "id": "3d487096",
   "metadata": {},
   "outputs": [],
   "source": [
    "time = []\n",
    "dados_times = []\n",
    "for times in dataset['Times']:\n",
    "    time.append(times)\n",
    "dados = dataset.loc[dataset['Times'] == time]\n",
    "for i in range(0,20):\n",
    "    for j in range(1,11):\n",
    "        dados_times.append(dados.iloc[i,j])"
   ]
  },
  {
   "cell_type": "code",
   "execution_count": 15,
   "id": "da494e9e",
   "metadata": {},
   "outputs": [
    {
     "name": "stdout",
     "output_type": "stream",
     "text": [
      "--------MÉDIA E MEDIANA POR TIMES-------\n",
      "\n",
      "Palmeiras: Média 20.78 | Mediana 16.0\n",
      "Atlético-MG: Média 17.44 | Mediana 17.0\n",
      "Corinthians: Média 18.33 | Mediana 15.0\n",
      "Internacional: Média 18.22 | Mediana 17.0\n",
      "Fluminense: Média 17.33 | Mediana 17.0\n",
      "Athletico-PR: Média 19.44 | Mediana 17.0\n",
      "Flamengo: Média 17.67 | Mediana 17.0\n",
      "Bragantino: Média 14.22 | Mediana 16.0\n",
      "São Paulo: Média 16.11 | Mediana 17.0\n",
      "Ceará: Média 12.89 | Mediana 13.0\n",
      "Santos: Média 16.00 | Mediana 18.0\n",
      "Botafogo: Média 16.56 | Mediana 17.0\n",
      "Avaí: Média 15.44 | Mediana 16.0\n",
      "Goiás: Média 12.33 | Mediana 12.0\n",
      "Cuiabá: Média 13.11 | Mediana 17.0\n",
      "Coritiba: Média 14.44 | Mediana 17.0\n",
      "Coritiba: Média 14.78 | Mediana 18.0\n",
      "Atlético Goianiense: Média 14.44 | Mediana 17.0\n",
      "Fortaleza: Média 11.33 | Mediana 13.0\n",
      "Juventude: Média 11.44 | Mediana 14.0\n"
     ]
    }
   ],
   "source": [
    "print(\"--------MÉDIA E MEDIANA POR TIMES-------\\n\")\n",
    "for dado in dados_times:\n",
    "    if(dado == 'Palmeiras >>'):\n",
    "        Palmeiras = dados_times[1:10]\n",
    "        print(f\"Palmeiras: Média {sum(Palmeiras)/9:.2f} | Mediana {np.median(Palmeiras)}\")\n",
    "    elif(dado == 'Athletico-PR >>'):\n",
    "        Athletico_PR = dados_times[11:20]\n",
    "        print(f\"Athletico-PR: Média {sum(Athletico_PR)/9:.2f} | Mediana {np.median(Athletico_PR)}\")        \n",
    "    elif(dado == 'Atlético-MG >>'):\n",
    "        Atletico_MG = dados_times[21:30]\n",
    "        print(f\"Atlético-MG: Média {sum(Atletico_MG)/9:.2f} | Mediana {np.median(Atletico_MG)}\")\n",
    "    elif(dado == 'Corinthians >>'):\n",
    "        Corinthians = dados_times[31:40]\n",
    "        print(f\"Corinthians: Média {sum(Corinthians)/9:.2f} | Mediana {np.median(Corinthians)}\")\n",
    "    elif(dado == 'Internacional >>'):\n",
    "        Internacional = dados_times[41:50]\n",
    "        print(f\"Internacional: Média {sum(Internacional)/9:.2f} | Mediana {np.median(Internacional)}\")\n",
    "    elif(dado == 'Fluminense >>'):\n",
    "        Fluminense = dados_times[51:60]\n",
    "        print(f\"Fluminense: Média {sum(Fluminense)/9:.2f} | Mediana {np.median(Fluminense)}\")\n",
    "    elif(dado == 'São Paulo >>'):\n",
    "        Sao_Paulo = dados_times[61:70]\n",
    "        print(f\"São Paulo: Média {sum(Sao_Paulo)/9:.2f} | Mediana {np.median(Sao_Paulo)}\")\n",
    "    elif(dado == 'Flamengo >>'):\n",
    "        Flamengo = dados_times[71:80]\n",
    "        print(f\"Flamengo: Média {sum(Flamengo)/9:.2f} | Mediana {np.median(Flamengo)}\")\n",
    "    elif(dado == 'Botafogo >>'):\n",
    "        Botafogo = dados_times[81:90]\n",
    "        print(f\"Botafogo: Média {sum(Botafogo)/9:.2f} | Mediana {np.median(Botafogo)}\")\n",
    "    elif(dado == 'Santos >>'):\n",
    "        Santos = dados_times[91:100]\n",
    "        print(f\"Santos: Média {sum(Santos)/9:.2f} | Mediana {np.median(Santos)}\")\n",
    "    elif(dado == 'Avaí >>'):\n",
    "        Avai = dados_times[101:110]\n",
    "        print(f\"Avaí: Média {sum(Avai)/9:.2f} | Mediana {np.median(Avai)}\")\n",
    "    elif(dado == 'Coritiba >>'):\n",
    "        Coritiba = dados_times[111:120]\n",
    "        print(f\"Coritiba: Média {sum(Coritiba)/9:.2f} | Mediana {np.median(Coritiba)}\")\n",
    "    elif(dado == 'América-MG >>'):\n",
    "        America_MG = dados_times[121:130]\n",
    "        print(f\"Coritiba: Média {sum(America_MG)/9:.2f} | Mediana {np.median(America_MG)}\")\n",
    "    elif(dado == 'Bragantino >>'):\n",
    "        Bragantino = dados_times[131:140]\n",
    "        print(f\"Bragantino: Média {sum(Bragantino)/9:.2f} | Mediana {np.median(Bragantino)}\")\n",
    "    elif(dado == 'Ceará >>'):\n",
    "        Ceara = dados_times[141:150]\n",
    "        print(f\"Ceará: Média {sum(Ceara)/9:.2f} | Mediana {np.median(Ceara)}\")\n",
    "    elif(dado == 'Atlético Goianiense >>'):\n",
    "        Atletico_Goianiense = dados_times[151:160]\n",
    "        print(f\"Atlético Goianiense: Média {sum(Atletico_Goianiense)/9:.2f} | Mediana {np.median(Atletico_Goianiense)}\")\n",
    "    elif(dado == 'Goiás >>'):\n",
    "        Goias = dados_times[161:170]\n",
    "        print(f\"Goiás: Média {sum(Goias)/9:.2f} | Mediana {np.median(Goias)}\")\n",
    "    elif(dado == 'Cuiabá >>'):\n",
    "        Cuiaba = dados_times[171:180]\n",
    "        print(f\"Cuiabá: Média {sum(Cuiaba)/9:.2f} | Mediana {np.median(Cuiaba)}\")\n",
    "    elif(dado == 'Juventude >>'):\n",
    "        Juventude = dados_times[181:190]\n",
    "        print(f\"Juventude: Média {sum(Juventude)/9:.2f} | Mediana {np.median(Juventude)}\")\n",
    "    elif(dado == 'Fortaleza >>'):\n",
    "        Fortaleza = dados_times[191:200]\n",
    "        print(f\"Fortaleza: Média {sum(Fortaleza)/9:.2f} | Mediana {np.median(Fortaleza)}\")"
   ]
  },
  {
   "cell_type": "markdown",
   "id": "7287f201",
   "metadata": {},
   "source": [
    "## Medidas de Variabilidade"
   ]
  },
  {
   "cell_type": "code",
   "execution_count": 16,
   "id": "5f5bc2cb",
   "metadata": {},
   "outputs": [
    {
     "data": {
      "text/plain": [
       "22.95"
      ]
     },
     "execution_count": 16,
     "metadata": {},
     "output_type": "execute_result"
    }
   ],
   "source": [
    "# Média das pontuações por times\n",
    "media_pontos = np.mean(dataset['P'])\n",
    "media_pontos"
   ]
  },
  {
   "cell_type": "code",
   "execution_count": 17,
   "id": "2db924d5",
   "metadata": {},
   "outputs": [
    {
     "data": {
      "text/plain": [
       "0    10.05\n",
       "1     8.05\n",
       "2     6.05\n",
       "3     6.05\n",
       "4     5.05\n",
       "5     5.05\n",
       "6     1.05\n",
       "7     1.05\n",
       "8     1.05\n",
       "9     1.05\n",
       "Name: P, dtype: float64"
      ]
     },
     "execution_count": 17,
     "metadata": {},
     "output_type": "execute_result"
    }
   ],
   "source": [
    "# Calculando o Desvio\n",
    "desvio = dataset['P'].apply(lambda x: x - media_pontos)\n",
    "#Mostrando só 10\n",
    "desvio.head(10)"
   ]
  },
  {
   "cell_type": "code",
   "execution_count": 18,
   "id": "6069feed",
   "metadata": {},
   "outputs": [
    {
     "name": "stdout",
     "output_type": "stream",
     "text": [
      "ABS: 4.450000000000001\n"
     ]
    }
   ],
   "source": [
    "#Desvio Absoluto Médio (ou Média do Desvio Absoluto)\n",
    "des = 0\n",
    "for i in range(len(dataset)):\n",
    "    des += abs((dataset['P'].loc[i] - media_pontos))\n",
    "des = des/len(dataset)\n",
    "print(f\"ABS: {des}\")"
   ]
  },
  {
   "cell_type": "code",
   "execution_count": 19,
   "id": "bc50275c",
   "metadata": {},
   "outputs": [
    {
     "data": {
      "text/plain": [
       "28.847500000000004"
      ]
     },
     "execution_count": 19,
     "metadata": {},
     "output_type": "execute_result"
    }
   ],
   "source": [
    "#Variância\n",
    "np.var(dataset['P'])"
   ]
  },
  {
   "cell_type": "code",
   "execution_count": 20,
   "id": "b0dd1178",
   "metadata": {},
   "outputs": [
    {
     "data": {
      "text/plain": [
       "5.37098687393667"
      ]
     },
     "execution_count": 20,
     "metadata": {},
     "output_type": "execute_result"
    }
   ],
   "source": [
    "#Desvio Padrão\n",
    "np.std(dataset['P'])"
   ]
  },
  {
   "cell_type": "markdown",
   "id": "8f132c92",
   "metadata": {},
   "source": [
    "## Tabela de Frequência e Histograma"
   ]
  },
  {
   "cell_type": "code",
   "execution_count": 21,
   "id": "511deb59",
   "metadata": {},
   "outputs": [
    {
     "data": {
      "text/plain": [
       "24    4\n",
       "21    3\n",
       "29    2\n",
       "28    2\n",
       "19    2\n",
       "33    1\n",
       "31    1\n",
       "22    1\n",
       "18    1\n",
       "17    1\n",
       "14    1\n",
       "13    1\n",
       "Name: P, dtype: int64"
      ]
     },
     "execution_count": 21,
     "metadata": {},
     "output_type": "execute_result"
    }
   ],
   "source": [
    "series = dataset['P'].value_counts()\n",
    "series"
   ]
  },
  {
   "cell_type": "code",
   "execution_count": 22,
   "id": "c97a6907",
   "metadata": {},
   "outputs": [
    {
     "data": {
      "text/plain": [
       "20"
      ]
     },
     "execution_count": 22,
     "metadata": {},
     "output_type": "execute_result"
    }
   ],
   "source": [
    "tatal_valores = series.sum()\n",
    "tatal_valores"
   ]
  },
  {
   "cell_type": "code",
   "execution_count": 23,
   "id": "3acc66da",
   "metadata": {},
   "outputs": [
    {
     "data": {
      "text/html": [
       "<div>\n",
       "<style scoped>\n",
       "    .dataframe tbody tr th:only-of-type {\n",
       "        vertical-align: middle;\n",
       "    }\n",
       "\n",
       "    .dataframe tbody tr th {\n",
       "        vertical-align: top;\n",
       "    }\n",
       "\n",
       "    .dataframe thead th {\n",
       "        text-align: right;\n",
       "    }\n",
       "</style>\n",
       "<table border=\"1\" class=\"dataframe\">\n",
       "  <thead>\n",
       "    <tr style=\"text-align: right;\">\n",
       "      <th></th>\n",
       "      <th>P</th>\n",
       "    </tr>\n",
       "  </thead>\n",
       "  <tbody>\n",
       "    <tr>\n",
       "      <th>24</th>\n",
       "      <td>4</td>\n",
       "    </tr>\n",
       "    <tr>\n",
       "      <th>21</th>\n",
       "      <td>3</td>\n",
       "    </tr>\n",
       "    <tr>\n",
       "      <th>29</th>\n",
       "      <td>2</td>\n",
       "    </tr>\n",
       "    <tr>\n",
       "      <th>28</th>\n",
       "      <td>2</td>\n",
       "    </tr>\n",
       "    <tr>\n",
       "      <th>19</th>\n",
       "      <td>2</td>\n",
       "    </tr>\n",
       "    <tr>\n",
       "      <th>33</th>\n",
       "      <td>1</td>\n",
       "    </tr>\n",
       "    <tr>\n",
       "      <th>31</th>\n",
       "      <td>1</td>\n",
       "    </tr>\n",
       "    <tr>\n",
       "      <th>22</th>\n",
       "      <td>1</td>\n",
       "    </tr>\n",
       "    <tr>\n",
       "      <th>18</th>\n",
       "      <td>1</td>\n",
       "    </tr>\n",
       "    <tr>\n",
       "      <th>17</th>\n",
       "      <td>1</td>\n",
       "    </tr>\n",
       "    <tr>\n",
       "      <th>14</th>\n",
       "      <td>1</td>\n",
       "    </tr>\n",
       "    <tr>\n",
       "      <th>13</th>\n",
       "      <td>1</td>\n",
       "    </tr>\n",
       "  </tbody>\n",
       "</table>\n",
       "</div>"
      ],
      "text/plain": [
       "    P\n",
       "24  4\n",
       "21  3\n",
       "29  2\n",
       "28  2\n",
       "19  2\n",
       "33  1\n",
       "31  1\n",
       "22  1\n",
       "18  1\n",
       "17  1\n",
       "14  1\n",
       "13  1"
      ]
     },
     "execution_count": 23,
     "metadata": {},
     "output_type": "execute_result"
    }
   ],
   "source": [
    "data = pd.DataFrame(series)\n",
    "data"
   ]
  },
  {
   "cell_type": "code",
   "execution_count": 24,
   "id": "45ae03b4",
   "metadata": {},
   "outputs": [
    {
     "data": {
      "text/html": [
       "<div>\n",
       "<style scoped>\n",
       "    .dataframe tbody tr th:only-of-type {\n",
       "        vertical-align: middle;\n",
       "    }\n",
       "\n",
       "    .dataframe tbody tr th {\n",
       "        vertical-align: top;\n",
       "    }\n",
       "\n",
       "    .dataframe thead th {\n",
       "        text-align: right;\n",
       "    }\n",
       "</style>\n",
       "<table border=\"1\" class=\"dataframe\">\n",
       "  <thead>\n",
       "    <tr style=\"text-align: right;\">\n",
       "      <th></th>\n",
       "      <th>P</th>\n",
       "      <th>Frequência %</th>\n",
       "    </tr>\n",
       "  </thead>\n",
       "  <tbody>\n",
       "    <tr>\n",
       "      <th>24</th>\n",
       "      <td>4</td>\n",
       "      <td>20.0</td>\n",
       "    </tr>\n",
       "    <tr>\n",
       "      <th>21</th>\n",
       "      <td>3</td>\n",
       "      <td>15.0</td>\n",
       "    </tr>\n",
       "    <tr>\n",
       "      <th>29</th>\n",
       "      <td>2</td>\n",
       "      <td>10.0</td>\n",
       "    </tr>\n",
       "    <tr>\n",
       "      <th>28</th>\n",
       "      <td>2</td>\n",
       "      <td>10.0</td>\n",
       "    </tr>\n",
       "    <tr>\n",
       "      <th>19</th>\n",
       "      <td>2</td>\n",
       "      <td>10.0</td>\n",
       "    </tr>\n",
       "    <tr>\n",
       "      <th>33</th>\n",
       "      <td>1</td>\n",
       "      <td>5.0</td>\n",
       "    </tr>\n",
       "    <tr>\n",
       "      <th>31</th>\n",
       "      <td>1</td>\n",
       "      <td>5.0</td>\n",
       "    </tr>\n",
       "    <tr>\n",
       "      <th>22</th>\n",
       "      <td>1</td>\n",
       "      <td>5.0</td>\n",
       "    </tr>\n",
       "    <tr>\n",
       "      <th>18</th>\n",
       "      <td>1</td>\n",
       "      <td>5.0</td>\n",
       "    </tr>\n",
       "    <tr>\n",
       "      <th>17</th>\n",
       "      <td>1</td>\n",
       "      <td>5.0</td>\n",
       "    </tr>\n",
       "    <tr>\n",
       "      <th>14</th>\n",
       "      <td>1</td>\n",
       "      <td>5.0</td>\n",
       "    </tr>\n",
       "    <tr>\n",
       "      <th>13</th>\n",
       "      <td>1</td>\n",
       "      <td>5.0</td>\n",
       "    </tr>\n",
       "  </tbody>\n",
       "</table>\n",
       "</div>"
      ],
      "text/plain": [
       "    P  Frequência %\n",
       "24  4          20.0\n",
       "21  3          15.0\n",
       "29  2          10.0\n",
       "28  2          10.0\n",
       "19  2          10.0\n",
       "33  1           5.0\n",
       "31  1           5.0\n",
       "22  1           5.0\n",
       "18  1           5.0\n",
       "17  1           5.0\n",
       "14  1           5.0\n",
       "13  1           5.0"
      ]
     },
     "execution_count": 24,
     "metadata": {},
     "output_type": "execute_result"
    }
   ],
   "source": [
    "data['Frequência %'] = round(data['P'] * 100 / tatal_valores,2)\n",
    "data"
   ]
  },
  {
   "cell_type": "code",
   "execution_count": 25,
   "id": "fa93b538",
   "metadata": {},
   "outputs": [
    {
     "data": {
      "text/html": [
       "<div>\n",
       "<style scoped>\n",
       "    .dataframe tbody tr th:only-of-type {\n",
       "        vertical-align: middle;\n",
       "    }\n",
       "\n",
       "    .dataframe tbody tr th {\n",
       "        vertical-align: top;\n",
       "    }\n",
       "\n",
       "    .dataframe thead th {\n",
       "        text-align: right;\n",
       "    }\n",
       "</style>\n",
       "<table border=\"1\" class=\"dataframe\">\n",
       "  <thead>\n",
       "    <tr style=\"text-align: right;\">\n",
       "      <th></th>\n",
       "      <th>Pontos</th>\n",
       "      <th>Num. Vezes</th>\n",
       "      <th>Freq. %</th>\n",
       "    </tr>\n",
       "  </thead>\n",
       "  <tbody>\n",
       "    <tr>\n",
       "      <th>13</th>\n",
       "      <td>13</td>\n",
       "      <td>1</td>\n",
       "      <td>5.0</td>\n",
       "    </tr>\n",
       "    <tr>\n",
       "      <th>14</th>\n",
       "      <td>14</td>\n",
       "      <td>1</td>\n",
       "      <td>5.0</td>\n",
       "    </tr>\n",
       "    <tr>\n",
       "      <th>17</th>\n",
       "      <td>17</td>\n",
       "      <td>1</td>\n",
       "      <td>5.0</td>\n",
       "    </tr>\n",
       "    <tr>\n",
       "      <th>18</th>\n",
       "      <td>18</td>\n",
       "      <td>1</td>\n",
       "      <td>5.0</td>\n",
       "    </tr>\n",
       "    <tr>\n",
       "      <th>19</th>\n",
       "      <td>19</td>\n",
       "      <td>2</td>\n",
       "      <td>10.0</td>\n",
       "    </tr>\n",
       "    <tr>\n",
       "      <th>21</th>\n",
       "      <td>21</td>\n",
       "      <td>3</td>\n",
       "      <td>15.0</td>\n",
       "    </tr>\n",
       "    <tr>\n",
       "      <th>22</th>\n",
       "      <td>22</td>\n",
       "      <td>1</td>\n",
       "      <td>5.0</td>\n",
       "    </tr>\n",
       "    <tr>\n",
       "      <th>24</th>\n",
       "      <td>24</td>\n",
       "      <td>4</td>\n",
       "      <td>20.0</td>\n",
       "    </tr>\n",
       "    <tr>\n",
       "      <th>28</th>\n",
       "      <td>28</td>\n",
       "      <td>2</td>\n",
       "      <td>10.0</td>\n",
       "    </tr>\n",
       "    <tr>\n",
       "      <th>29</th>\n",
       "      <td>29</td>\n",
       "      <td>2</td>\n",
       "      <td>10.0</td>\n",
       "    </tr>\n",
       "    <tr>\n",
       "      <th>31</th>\n",
       "      <td>31</td>\n",
       "      <td>1</td>\n",
       "      <td>5.0</td>\n",
       "    </tr>\n",
       "    <tr>\n",
       "      <th>33</th>\n",
       "      <td>33</td>\n",
       "      <td>1</td>\n",
       "      <td>5.0</td>\n",
       "    </tr>\n",
       "  </tbody>\n",
       "</table>\n",
       "</div>"
      ],
      "text/plain": [
       "    Pontos  Num. Vezes  Freq. %\n",
       "13      13           1      5.0\n",
       "14      14           1      5.0\n",
       "17      17           1      5.0\n",
       "18      18           1      5.0\n",
       "19      19           2     10.0\n",
       "21      21           3     15.0\n",
       "22      22           1      5.0\n",
       "24      24           4     20.0\n",
       "28      28           2     10.0\n",
       "29      29           2     10.0\n",
       "31      31           1      5.0\n",
       "33      33           1      5.0"
      ]
     },
     "execution_count": 25,
     "metadata": {},
     "output_type": "execute_result"
    }
   ],
   "source": [
    "table = pd.DataFrame({\"Pontos\": data.index,\n",
    "                    \"Num. Vezes\": data['P'],\n",
    "                    \"Freq. %\": data['Frequência %']})\n",
    "table.sort_index(inplace=True)\n",
    "table"
   ]
  },
  {
   "cell_type": "code",
   "execution_count": 26,
   "id": "2d599690",
   "metadata": {},
   "outputs": [
    {
     "data": {
      "text/plain": [
       "6"
      ]
     },
     "execution_count": 26,
     "metadata": {},
     "output_type": "execute_result"
    }
   ],
   "source": [
    "bins = math.ceil(1 + 3.3 * math.log10(len(dataset['P'])))\n",
    "bins"
   ]
  },
  {
   "cell_type": "code",
   "execution_count": 27,
   "id": "8d15f253",
   "metadata": {},
   "outputs": [
    {
     "data": {
      "image/png": "[encoded data removed]",
      "text/plain": [
       "<Figure size 432x288 with 1 Axes>"
      ]
     },
     "metadata": {
      "needs_background": "light"
     },
     "output_type": "display_data"
    }
   ],
   "source": [
    "#histograma da columa pontos\n",
    "plt.hist(dataset['P'], bins=bins)\n",
    "plt.show()"
   ]
  },
  {
   "cell_type": "code",
   "execution_count": 28,
   "id": "57f18c0c",
   "metadata": {},
   "outputs": [
    {
     "data": {
      "text/plain": [
       "4"
      ]
     },
     "execution_count": 28,
     "metadata": {},
     "output_type": "execute_result"
    }
   ],
   "source": [
    "k = int(math.sqrt(len(dataset['P'])))\n",
    "k"
   ]
  },
  {
   "cell_type": "code",
   "execution_count": 29,
   "id": "9fcfa6a8",
   "metadata": {},
   "outputs": [
    {
     "data": {
      "image/png": "[encoded data removed]",
      "text/plain": [
       "<Figure size 432x288 with 1 Axes>"
      ]
     },
     "metadata": {
      "needs_background": "light"
     },
     "output_type": "display_data"
    }
   ],
   "source": [
    "plt.hist(dataset['P'], bins=k)\n",
    "plt.show()"
   ]
  },
  {
   "cell_type": "code",
   "execution_count": 30,
   "id": "b540fc3a",
   "metadata": {},
   "outputs": [
    {
     "data": {
      "text/html": [
       "<div>\n",
       "<style scoped>\n",
       "    .dataframe tbody tr th:only-of-type {\n",
       "        vertical-align: middle;\n",
       "    }\n",
       "\n",
       "    .dataframe tbody tr th {\n",
       "        vertical-align: top;\n",
       "    }\n",
       "\n",
       "    .dataframe thead th {\n",
       "        text-align: right;\n",
       "    }\n",
       "</style>\n",
       "<table border=\"1\" class=\"dataframe\">\n",
       "  <thead>\n",
       "    <tr style=\"text-align: right;\">\n",
       "      <th></th>\n",
       "      <th>P</th>\n",
       "      <th>Freq</th>\n",
       "    </tr>\n",
       "  </thead>\n",
       "  <tbody>\n",
       "    <tr>\n",
       "      <th>0</th>\n",
       "      <td>13</td>\n",
       "      <td>1</td>\n",
       "    </tr>\n",
       "    <tr>\n",
       "      <th>1</th>\n",
       "      <td>14</td>\n",
       "      <td>1</td>\n",
       "    </tr>\n",
       "    <tr>\n",
       "      <th>2</th>\n",
       "      <td>17</td>\n",
       "      <td>1</td>\n",
       "    </tr>\n",
       "    <tr>\n",
       "      <th>3</th>\n",
       "      <td>18</td>\n",
       "      <td>1</td>\n",
       "    </tr>\n",
       "    <tr>\n",
       "      <th>4</th>\n",
       "      <td>19</td>\n",
       "      <td>2</td>\n",
       "    </tr>\n",
       "    <tr>\n",
       "      <th>5</th>\n",
       "      <td>21</td>\n",
       "      <td>3</td>\n",
       "    </tr>\n",
       "    <tr>\n",
       "      <th>6</th>\n",
       "      <td>22</td>\n",
       "      <td>1</td>\n",
       "    </tr>\n",
       "    <tr>\n",
       "      <th>7</th>\n",
       "      <td>24</td>\n",
       "      <td>4</td>\n",
       "    </tr>\n",
       "    <tr>\n",
       "      <th>8</th>\n",
       "      <td>28</td>\n",
       "      <td>2</td>\n",
       "    </tr>\n",
       "    <tr>\n",
       "      <th>9</th>\n",
       "      <td>29</td>\n",
       "      <td>2</td>\n",
       "    </tr>\n",
       "    <tr>\n",
       "      <th>10</th>\n",
       "      <td>31</td>\n",
       "      <td>1</td>\n",
       "    </tr>\n",
       "    <tr>\n",
       "      <th>11</th>\n",
       "      <td>33</td>\n",
       "      <td>1</td>\n",
       "    </tr>\n",
       "  </tbody>\n",
       "</table>\n",
       "</div>"
      ],
      "text/plain": [
       "     P  Freq\n",
       "0   13     1\n",
       "1   14     1\n",
       "2   17     1\n",
       "3   18     1\n",
       "4   19     2\n",
       "5   21     3\n",
       "6   22     1\n",
       "7   24     4\n",
       "8   28     2\n",
       "9   29     2\n",
       "10  31     1\n",
       "11  33     1"
      ]
     },
     "execution_count": 30,
     "metadata": {},
     "output_type": "execute_result"
    }
   ],
   "source": [
    "fre_dataset = dataset.groupby(['P']).size().reset_index(name='Freq')\n",
    "fre_dataset"
   ]
  },
  {
   "cell_type": "code",
   "execution_count": 31,
   "id": "59063e93",
   "metadata": {},
   "outputs": [],
   "source": [
    "length = fre_dataset['P']\n",
    "labels = fre_dataset['Freq']"
   ]
  },
  {
   "cell_type": "code",
   "execution_count": 32,
   "id": "dae8b1f5",
   "metadata": {},
   "outputs": [
    {
     "data": {
      "image/png": "[encoded data removed]",
      "text/plain": [
       "<Figure size 640x480 with 1 Axes>"
      ]
     },
     "metadata": {},
     "output_type": "display_data"
    },
    {
     "data": {
      "text/plain": [
       "<ggplot: (188300304475)>"
      ]
     },
     "execution_count": 32,
     "metadata": {},
     "output_type": "execute_result"
    }
   ],
   "source": [
    "(ggplot(fre_dataset, aes(fre_dataset['P'],'Freq'))\n",
    "  + geom_col(fill='red')\n",
    "  + scale_x_continuous(breaks=length, labels=labels)\n",
    "  + theme_light()\n",
    "  + xlab('Comprimento')\n",
    "  + ylab('Frequência')\n",
    ")"
   ]
  },
  {
   "cell_type": "code",
   "execution_count": 33,
   "id": "38f40c6c",
   "metadata": {},
   "outputs": [
    {
     "data": {
      "text/plain": [
       "0     1.871165\n",
       "1     1.498793\n",
       "2     1.126422\n",
       "3     1.126422\n",
       "4     0.940237\n",
       "5     0.940237\n",
       "6     0.195495\n",
       "7     0.195495\n",
       "8     0.195495\n",
       "9     0.195495\n",
       "10   -0.176876\n",
       "11   -0.363062\n",
       "12   -0.363062\n",
       "13   -0.363062\n",
       "14   -0.735433\n",
       "15   -0.735433\n",
       "16   -0.921618\n",
       "17   -1.107804\n",
       "18   -1.666360\n",
       "19   -1.852546\n",
       "Name: P, dtype: float64"
      ]
     },
     "execution_count": 33,
     "metadata": {},
     "output_type": "execute_result"
    }
   ],
   "source": [
    "data_zscore = stats.zscore(dataset['P'])\n",
    "data_zscore"
   ]
  },
  {
   "cell_type": "code",
   "execution_count": 34,
   "id": "58c1cbf7",
   "metadata": {},
   "outputs": [],
   "source": [
    "Dist, p_v = scipy.stats.kstest(data_zscore, 'norm', alternative = 'greater')"
   ]
  },
  {
   "cell_type": "code",
   "execution_count": 36,
   "id": "f039455f",
   "metadata": {},
   "outputs": [
    {
     "name": "stdout",
     "output_type": "stream",
     "text": [
      "Segue a normal!\n"
     ]
    }
   ],
   "source": [
    "#Dist é a Distância e p_v é o p-value\n",
    "if(Dist < p_v):\n",
    "    print(\"Segue a normal!\")\n",
    "else:\n",
    "    print(\"Não segue a normal!\")"
   ]
  },
  {
   "cell_type": "code",
   "execution_count": 37,
   "id": "f745cd2f",
   "metadata": {},
   "outputs": [
    {
     "data": {
      "image/png": "[encoded data removed]",
      "text/plain": [
       "<Figure size 432x288 with 1 Axes>"
      ]
     },
     "metadata": {
      "needs_background": "light"
     },
     "output_type": "display_data"
    }
   ],
   "source": [
    "plt.hist(data_zscore) \n",
    "plt.show()"
   ]
  },
  {
   "cell_type": "code",
   "execution_count": 38,
   "id": "11825f20",
   "metadata": {},
   "outputs": [],
   "source": [
    "#dataset['P'][0] = 190\n",
    "#dataset['P'][0]"
   ]
  },
  {
   "cell_type": "code",
   "execution_count": 39,
   "id": "a5a46b19",
   "metadata": {},
   "outputs": [
    {
     "data": {
      "text/plain": [
       "<AxesSubplot:>"
      ]
     },
     "execution_count": 39,
     "metadata": {},
     "output_type": "execute_result"
    },
    {
     "data": {
      "image/png": "[encoded data removed]",
      "text/plain": [
       "<Figure size 720x720 with 1 Axes>"
      ]
     },
     "metadata": {
      "needs_background": "light"
     },
     "output_type": "display_data"
    }
   ],
   "source": [
    "dataset.boxplot(column=['P'], fontsize='large', figsize=(10,10))"
   ]
  },
  {
   "cell_type": "code",
   "execution_count": 40,
   "id": "d358906b",
   "metadata": {},
   "outputs": [
    {
     "data": {
      "text/plain": [
       "<AxesSubplot:title={'center':'P'}, xlabel='Classificação'>"
      ]
     },
     "execution_count": 40,
     "metadata": {},
     "output_type": "execute_result"
    },
    {
     "data": {
      "image/png": "[encoded data removed]",
      "text/plain": [
       "<Figure size 576x576 with 1 Axes>"
      ]
     },
     "metadata": {
      "needs_background": "light"
     },
     "output_type": "display_data"
    }
   ],
   "source": [
    "dataset.boxplot(by='Classificação', column=['P'], fontsize='large', figsize=(8,8))"
   ]
  },
  {
   "cell_type": "code",
   "execution_count": 41,
   "id": "816ace79",
   "metadata": {},
   "outputs": [
    {
     "data": {
      "image/png": "[encoded data removed]",
      "text/plain": [
       "<Figure size 432x288 with 1 Axes>"
      ]
     },
     "metadata": {
      "needs_background": "light"
     },
     "output_type": "display_data"
    }
   ],
   "source": [
    "sm.qqplot(data_zscore, line ='45') \n",
    "py.show() "
   ]
  },
  {
   "cell_type": "code",
   "execution_count": 42,
   "id": "4901664c",
   "metadata": {},
   "outputs": [
    {
     "data": {
      "text/plain": [
       "<AxesSubplot:>"
      ]
     },
     "execution_count": 42,
     "metadata": {},
     "output_type": "execute_result"
    },
    {
     "data": {
      "image/png": "[encoded data removed]",
      "text/plain": [
       "<Figure size 864x720 with 2 Axes>"
      ]
     },
     "metadata": {
      "needs_background": "light"
     },
     "output_type": "display_data"
    }
   ],
   "source": [
    "corr_s = dataset.corr()\n",
    "fig = plt.figure(figsize=(12,10))\n",
    "ax = plt.gca()\n",
    "sns.heatmap(corr_s, cmap=\"coolwarm\", annot=True, ax=ax)"
   ]
  },
  {
   "cell_type": "code",
   "execution_count": 43,
   "id": "c9ba8bce",
   "metadata": {},
   "outputs": [],
   "source": [
    "points = dataset[\"P\"].values"
   ]
  },
  {
   "cell_type": "code",
   "execution_count": 44,
   "id": "cac1c2b3",
   "metadata": {},
   "outputs": [
    {
     "data": {
      "text/html": [
       "<div>\n",
       "<style scoped>\n",
       "    .dataframe tbody tr th:only-of-type {\n",
       "        vertical-align: middle;\n",
       "    }\n",
       "\n",
       "    .dataframe tbody tr th {\n",
       "        vertical-align: top;\n",
       "    }\n",
       "\n",
       "    .dataframe thead th {\n",
       "        text-align: right;\n",
       "    }\n",
       "</style>\n",
       "<table border=\"1\" class=\"dataframe\">\n",
       "  <thead>\n",
       "    <tr style=\"text-align: right;\">\n",
       "      <th></th>\n",
       "      <th>sumsquare_error</th>\n",
       "      <th>aic</th>\n",
       "      <th>bic</th>\n",
       "      <th>kl_div</th>\n",
       "    </tr>\n",
       "  </thead>\n",
       "  <tbody>\n",
       "    <tr>\n",
       "      <th>lognorm</th>\n",
       "      <td>2.500056</td>\n",
       "      <td>641.668092</td>\n",
       "      <td>-32.601188</td>\n",
       "      <td>inf</td>\n",
       "    </tr>\n",
       "    <tr>\n",
       "      <th>gamma</th>\n",
       "      <td>2.500356</td>\n",
       "      <td>641.542157</td>\n",
       "      <td>-32.598783</td>\n",
       "      <td>inf</td>\n",
       "    </tr>\n",
       "    <tr>\n",
       "      <th>norm</th>\n",
       "      <td>2.500497</td>\n",
       "      <td>639.537315</td>\n",
       "      <td>-35.593387</td>\n",
       "      <td>inf</td>\n",
       "    </tr>\n",
       "    <tr>\n",
       "      <th>burr</th>\n",
       "      <td>2.503454</td>\n",
       "      <td>651.823714</td>\n",
       "      <td>-29.578289</td>\n",
       "      <td>inf</td>\n",
       "    </tr>\n",
       "    <tr>\n",
       "      <th>beta</th>\n",
       "      <td>2.506168</td>\n",
       "      <td>612.512427</td>\n",
       "      <td>-29.556620</td>\n",
       "      <td>inf</td>\n",
       "    </tr>\n",
       "  </tbody>\n",
       "</table>\n",
       "</div>"
      ],
      "text/plain": [
       "         sumsquare_error         aic        bic  kl_div\n",
       "lognorm         2.500056  641.668092 -32.601188     inf\n",
       "gamma           2.500356  641.542157 -32.598783     inf\n",
       "norm            2.500497  639.537315 -35.593387     inf\n",
       "burr            2.503454  651.823714 -29.578289     inf\n",
       "beta            2.506168  612.512427 -29.556620     inf"
      ]
     },
     "execution_count": 44,
     "metadata": {},
     "output_type": "execute_result"
    },
    {
     "data": {
      "image/png": "[encoded data removed]",
      "text/plain": [
       "<Figure size 432x288 with 1 Axes>"
      ]
     },
     "metadata": {
      "needs_background": "light"
     },
     "output_type": "display_data"
    }
   ],
   "source": [
    "fiter = Fitter(points,\n",
    "           distributions=['gamma',\n",
    "                          'lognorm',\n",
    "                          \"beta\",\n",
    "                          \"burr\",\n",
    "                          \"norm\"])\n",
    "fiter.fit()\n",
    "fiter.summary()"
   ]
  },
  {
   "cell_type": "markdown",
   "id": "d568c7cf",
   "metadata": {},
   "source": [
    "## USANDO UM CLASSIFICADOR PARA PREDIZER A PONTUAÇÃO DOS TIMES"
   ]
  },
  {
   "cell_type": "code",
   "execution_count": 45,
   "id": "c9ef475e",
   "metadata": {},
   "outputs": [],
   "source": [
    "X = dataset[[\"J\",\"V\", \"E\", \"D\", \"GP\", \"GC\", \"SG\", \"%\"]]\n",
    "Y = dataset[\"P\"]"
   ]
  },
  {
   "cell_type": "code",
   "execution_count": 46,
   "id": "ff67fa5e",
   "metadata": {},
   "outputs": [],
   "source": [
    "X_train, X_test, Y_train, Y_test = train_test_split(X,Y,random_state=0)"
   ]
  },
  {
   "cell_type": "code",
   "execution_count": 92,
   "id": "2fde1ca3",
   "metadata": {},
   "outputs": [
    {
     "name": "stdout",
     "output_type": "stream",
     "text": [
      "Accuracy: 0.0\n"
     ]
    }
   ],
   "source": [
    "knn = KNeighborsClassifier(n_neighbors = 15)\n",
    "knn.fit(X_train, Y_train)\n",
    "print(f\"Accuracy: {knn.score(X_test,Y_test )}\")"
   ]
  },
  {
   "cell_type": "code",
   "execution_count": 93,
   "id": "bddbcb32",
   "metadata": {},
   "outputs": [],
   "source": [
    "#Palmeiras = [[17,9,6,2,28,12,16,64]]\n",
    "#Flamengo = [[17,7,3,7,20,17,3,47]]\n",
    "#Fortaleza = [[17,3,5,9,14,21,-7,27]]\n",
    "#Juventude = [[17,2,7,8,15,28,-13,25]]\n",
    "Avai = [[18,6,3,9,19,28,-9,3]]"
   ]
  },
  {
   "cell_type": "code",
   "execution_count": 94,
   "id": "5baaa494",
   "metadata": {},
   "outputs": [
    {
     "name": "stdout",
     "output_type": "stream",
     "text": [
      "Predição: [21]\n"
     ]
    },
    {
     "name": "stderr",
     "output_type": "stream",
     "text": [
      "C:\\Users\\resid\\anaconda3\\lib\\site-packages\\sklearn\\base.py:450: UserWarning: X does not have valid feature names, but KNeighborsClassifier was fitted with feature names\n"
     ]
    }
   ],
   "source": [
    "print(f\"Predição: {knn.predict(Avai)}\")"
   ]
  },
  {
   "cell_type": "code",
   "execution_count": null,
   "id": "95bf9a36",
   "metadata": {},
   "outputs": [],
   "source": []
  },
  {
   "cell_type": "code",
   "execution_count": null,
   "id": "4356d1f3",
   "metadata": {},
   "outputs": [],
   "source": []
  },
  {
   "cell_type": "markdown",
   "id": "7845998b",
   "metadata": {},
   "source": [
    "### DATASET DA LIGA NACIONAL DE FUTBALL AMERICANO (NACIONAL FOTEBALL LEAGUE)\n",
    "#### url(https://www.nfl.com/standings/league/2021/PRE)"
   ]
  },
  {
   "cell_type": "code",
   "execution_count": null,
   "id": "eeea942b",
   "metadata": {},
   "outputs": [],
   "source": [
    "url = 'https://www.nfl.com/standings/league/2021/PRE'\n",
    "pagina = requests.get(url)"
   ]
  },
  {
   "cell_type": "code",
   "execution_count": null,
   "id": "9e61679f",
   "metadata": {},
   "outputs": [],
   "source": [
    "sopa = BeautifulSoup(pagina.text, 'html')"
   ]
  },
  {
   "cell_type": "code",
   "execution_count": null,
   "id": "445f0a16",
   "metadata": {},
   "outputs": [],
   "source": [
    "tabela = sopa.find('table', {'summary':'Standings - Detailed View'})\n",
    "cabecalhos = []"
   ]
  },
  {
   "cell_type": "code",
   "execution_count": null,
   "id": "012c50fd",
   "metadata": {},
   "outputs": [],
   "source": [
    "for i in tabela.find_all('th'):\n",
    "    cab = i.text.strip()\n",
    "    cabecalhos.append(cab)"
   ]
  },
  {
   "cell_type": "code",
   "execution_count": null,
   "id": "8186a63d",
   "metadata": {},
   "outputs": [],
   "source": [
    "data_cab = pd.DataFrame(columns = cabecalhos)\n",
    "for linhas in tabela.find_all('tr')[1:]:\n",
    "    dados = linhas.find_all('td')\n",
    "    linhas_tab = [dado.text.strip() for dado in dados]\n",
    "    tam = len(data_cab)\n",
    "    data_cab.loc[tam] = linhas_tab\n",
    "data_cab.head(10)  "
   ]
  },
  {
   "cell_type": "code",
   "execution_count": null,
   "id": "97cfa03a",
   "metadata": {},
   "outputs": [],
   "source": [
    "data_cab.to_csv('nfl.csv')"
   ]
  },
  {
   "cell_type": "markdown",
   "id": "a7ade2db",
   "metadata": {},
   "source": [
    "### DATASET DA POPULAÇÃO MUNDIAL DE 2022 POR CONTINENTES\n",
    "#### SITE: url(https://www.worldometers.info/world-population/population-by-region/)"
   ]
  },
  {
   "cell_type": "code",
   "execution_count": null,
   "id": "2308a03a",
   "metadata": {},
   "outputs": [],
   "source": [
    "url = 'https://www.worldometers.info/world-population/population-by-region/'\n",
    "pop = requests.get(url)"
   ]
  },
  {
   "cell_type": "code",
   "execution_count": null,
   "id": "706ea0a6",
   "metadata": {},
   "outputs": [],
   "source": [
    "sopa = BeautifulSoup(pop.text, 'html.parser')"
   ]
  },
  {
   "cell_type": "code",
   "execution_count": null,
   "id": "065daa6c",
   "metadata": {},
   "outputs": [],
   "source": [
    "pop_continente = sopa.find('table', {'class':'table table-hover table-condensed'})"
   ]
  },
  {
   "cell_type": "code",
   "execution_count": null,
   "id": "4d5b95aa",
   "metadata": {},
   "outputs": [],
   "source": [
    "head = []\n",
    "for i in pop_continente.find_all('th'):\n",
    "    pop_dados = i.text.strip()\n",
    "    head.append(pop_dados)"
   ]
  },
  {
   "cell_type": "code",
   "execution_count": null,
   "id": "2167e801",
   "metadata": {},
   "outputs": [],
   "source": [
    "pop_cab = pd.DataFrame(columns = head)\n",
    "for linhas in pop_continente.find_all('tr')[1:]:\n",
    "    dados = linhas.find_all('td')\n",
    "    linhas_tab = [dado.text.strip() for dado in dados]\n",
    "    tam = len(pop_cab)\n",
    "    pop_cab.loc[tam] = linhas_tab\n",
    "pop_cab"
   ]
  },
  {
   "cell_type": "code",
   "execution_count": null,
   "id": "5075cff2",
   "metadata": {},
   "outputs": [],
   "source": [
    "pop_cab.to_csv('continentes_pop.csv')"
   ]
  },
  {
   "cell_type": "code",
   "execution_count": null,
   "id": "af0b8d2a",
   "metadata": {},
   "outputs": [],
   "source": []
  },
  {
   "cell_type": "code",
   "execution_count": null,
   "id": "ef27aff0",
   "metadata": {},
   "outputs": [],
   "source": []
  },
  {
   "cell_type": "markdown",
   "id": "b9ec5607",
   "metadata": {},
   "source": [
    "### DATASET DA POPULAÇÃO MUNDIAL DE 2022 POR PAÍS \n",
    "#### SITE: url(https://www.worldometers.info/world-population/population-by-country/)"
   ]
  },
  {
   "cell_type": "code",
   "execution_count": null,
   "id": "a48f30ec",
   "metadata": {},
   "outputs": [],
   "source": [
    "url = 'https://www.worldometers.info/world-population/population-by-country/'\n",
    "pagina = requests.get(url)"
   ]
  },
  {
   "cell_type": "code",
   "execution_count": null,
   "id": "88f6e42e",
   "metadata": {},
   "outputs": [],
   "source": [
    "sopa = BeautifulSoup(pagina.text, 'lxml')"
   ]
  },
  {
   "cell_type": "code",
   "execution_count": null,
   "id": "dc54db56",
   "metadata": {},
   "outputs": [],
   "source": [
    "tabela = sopa.find('table', {'id':'example2'})\n",
    "cabecalhos = []"
   ]
  },
  {
   "cell_type": "code",
   "execution_count": null,
   "id": "b2f6d1b1",
   "metadata": {},
   "outputs": [],
   "source": [
    "for i in tabela.find_all('th'):\n",
    "    cab = i.text\n",
    "    cabecalhos.append(cab)"
   ]
  },
  {
   "cell_type": "code",
   "execution_count": null,
   "id": "613898bf",
   "metadata": {},
   "outputs": [],
   "source": [
    "data_cab = pd.DataFrame(columns = cabecalhos)\n",
    "for linhas in tabela.find_all('tr')[1:]:\n",
    "    dados = linhas.find_all('td')\n",
    "    linhas_tab = [dado.text.strip() for dado in dados]\n",
    "    tam = len(data_cab)\n",
    "    data_cab.loc[tam] = linhas_tab\n",
    "data_cab.head(10)"
   ]
  },
  {
   "cell_type": "code",
   "execution_count": null,
   "id": "88c93357",
   "metadata": {},
   "outputs": [],
   "source": [
    "data_cab.to_csv('populacao_paises.csv')"
   ]
  },
  {
   "cell_type": "code",
   "execution_count": null,
   "id": "cc9eed98",
   "metadata": {},
   "outputs": [],
   "source": []
  },
  {
   "cell_type": "markdown",
   "id": "2d0229c8",
   "metadata": {},
   "source": [
    "### DATASET DA POPULAÇÃO MUNDIAL POR ANO \n",
    "##### SITE: url(https://www.worldometers.info/world-population/world-population-by-year/)"
   ]
  },
  {
   "cell_type": "code",
   "execution_count": null,
   "id": "51172401",
   "metadata": {},
   "outputs": [],
   "source": [
    "url = 'https://www.worldometers.info/world-population/world-population-by-year/'\n",
    "pop_years = requests.get(url)"
   ]
  },
  {
   "cell_type": "code",
   "execution_count": null,
   "id": "1c7aef6d",
   "metadata": {},
   "outputs": [],
   "source": [
    "sopa = BeautifulSoup(pop_years.text, 'html')"
   ]
  },
  {
   "cell_type": "code",
   "execution_count": null,
   "id": "4ec1ef7b",
   "metadata": {},
   "outputs": [],
   "source": [
    "tabela_pop_years = sopa.find('table', {'class':'table table-hover table-condensed'})\n",
    "cap_pop_years = []"
   ]
  },
  {
   "cell_type": "code",
   "execution_count": null,
   "id": "3c385576",
   "metadata": {},
   "outputs": [],
   "source": [
    "for i in tabela_pop_years.find_all('th'):\n",
    "    cab = i.text\n",
    "    cap_pop_years.append(cab)"
   ]
  },
  {
   "cell_type": "code",
   "execution_count": null,
   "id": "58b9f227",
   "metadata": {},
   "outputs": [],
   "source": [
    "data_cab = pd.DataFrame(columns = cap_pop_years)\n",
    "for linhas in tabela_pop_years.find_all('tr')[1:]:\n",
    "    dados = linhas.find_all('td')\n",
    "    linhas_tab = [dado.text.strip() for dado in dados]\n",
    "    tam = len(data_cab)\n",
    "    data_cab.loc[tam] = linhas_tab\n",
    "    \n",
    "data_cab.head(10)"
   ]
  },
  {
   "cell_type": "code",
   "execution_count": null,
   "id": "d82f9f53",
   "metadata": {},
   "outputs": [],
   "source": [
    "data_cab.to_csv('populacao_por_anos.csv')"
   ]
  }
 ],
 "metadata": {
  "kernelspec": {
   "display_name": "Python 3 (ipykernel)",
   "language": "python",
   "name": "python3"
  },
  "language_info": {
   "codemirror_mode": {
    "name": "ipython",
    "version": 3
   },
   "file_extension": ".py",
   "mimetype": "text/x-python",
   "name": "python",
   "nbconvert_exporter": "python",
   "pygments_lexer": "ipython3",
   "version": "3.9.12"
  }
 },
 "nbformat": 4,
 "nbformat_minor": 5
}
